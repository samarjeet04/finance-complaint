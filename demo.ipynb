{
 "cells": [
  {
   "cell_type": "code",
   "execution_count": 1,
   "metadata": {},
   "outputs": [],
   "source": [
    "import pandas as pd"
   ]
  },
  {
   "cell_type": "code",
   "execution_count": 21,
   "metadata": {},
   "outputs": [],
   "source": [
    "intervals=pd.date_range(start=\"2022-05-01\",end=\"2022-11-11\",\n",
    "                                      freq=\"M\").astype('str').tolist()"
   ]
  },
  {
   "cell_type": "code",
   "execution_count": 22,
   "metadata": {},
   "outputs": [
    {
     "name": "stdout",
     "output_type": "stream",
     "text": [
      "2022-06-30\n",
      "2022-07-31\n",
      "2022-08-31\n",
      "2022-09-30\n",
      "2022-10-31\n"
     ]
    }
   ],
   "source": [
    "for index in range(1, len(intervals)):\n",
    "    print(intervals[index])"
   ]
  },
  {
   "cell_type": "code",
   "execution_count": 23,
   "metadata": {},
   "outputs": [
    {
     "name": "stdout",
     "output_type": "stream",
     "text": [
      "2022-05-31 2022-06-30\n",
      "2022-06-30 2022-07-31\n",
      "2022-07-31 2022-08-31\n",
      "2022-08-31 2022-09-30\n",
      "2022-09-30 2022-10-31\n"
     ]
    }
   ],
   "source": [
    "for index in range(1, len(intervals)):\n",
    "    print(intervals[index-1], intervals[index])"
   ]
  },
  {
   "cell_type": "code",
   "execution_count": null,
   "metadata": {},
   "outputs": [],
   "source": []
  }
 ],
 "metadata": {
  "kernelspec": {
   "display_name": "Python 3.9.0 (conda)",
   "language": "python",
   "name": "python3"
  },
  "language_info": {
   "codemirror_mode": {
    "name": "ipython",
    "version": 3
   },
   "file_extension": ".py",
   "mimetype": "text/x-python",
   "name": "python",
   "nbconvert_exporter": "python",
   "pygments_lexer": "ipython3",
   "version": "3.9.0"
  },
  "orig_nbformat": 4,
  "vscode": {
   "interpreter": {
    "hash": "a9d70e5120379a08d92561ac2db57e0ada7ae2278f833230a80f7a30f16d2cb1"
   }
  }
 },
 "nbformat": 4,
 "nbformat_minor": 2
}
